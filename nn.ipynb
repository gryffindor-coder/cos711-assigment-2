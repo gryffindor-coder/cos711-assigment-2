{
 "cells": [
  {
   "cell_type": "code",
   "execution_count": 1,
   "metadata": {},
   "outputs": [],
   "source": [
    "import csv\n",
    "import re\n",
    "import numpy as np\n",
    "from collections import defaultdict\n",
    "import torch\n",
    "import torch.optim as optim\n",
    "from torch import nn \n",
    "from sklearn.model_selection import train_test_split\n",
    "from sklearn.preprocessing import StandardScaler"
   ]
  },
  {
   "cell_type": "markdown",
   "metadata": {},
   "source": [
    "### Importing"
   ]
  },
  {
   "cell_type": "code",
   "execution_count": 14,
   "metadata": {},
   "outputs": [],
   "source": [
    "data = []\n",
    "\n",
    "with open('almonds/Almond.csv', 'r') as dataset:\n",
    "    reader = csv.reader(dataset)\n",
    "\n",
    "    headers = [re.sub(r'\\s*\\(.*\\)','',header).strip() for header in next(reader)[1:]]\n",
    "    types = []\n",
    "\n",
    "    for line in reader:\n",
    "        row = {}\n",
    "        for x, value in enumerate(line[1:]):\n",
    "            if x < len(headers) - 1:\n",
    "                row[headers[x]] = float(value) if value != '' else None\n",
    "            else:\n",
    "                if value not in types:\n",
    "                    types.append(value)\n",
    "                row[headers[x]] = types.index(value) if value != '' else None\n",
    "        data.append(row)"
   ]
  },
  {
   "cell_type": "markdown",
   "metadata": {},
   "source": [
    "### Preprocessing"
   ]
  },
  {
   "cell_type": "code",
   "execution_count": 15,
   "metadata": {},
   "outputs": [],
   "source": [
    "nones = defaultdict(int)\n",
    "\n",
    "for instance in data:\n",
    "    for feature, value in instance.items():\n",
    "        if value == None:\n",
    "            nones[feature] += 1\n",
    "\n",
    "lengths = [instance['Length'] for instance in data]\n",
    "widths = [instance['Width'] for instance in data]\n",
    "thicknesses = [instance['Thickness'] for instance in data]\n",
    "\n",
    "ratios = [instance['Length'] / instance['Width'] for instance in data if instance['Length'] is not None and instance['Width'] is not None]\n",
    "median_ratio = np.median(ratios)\n",
    "\n",
    "thickness_median = np.median([value for value in thicknesses if value is not None])\n",
    "\n",
    "for instance in data:\n",
    "    if instance['Length'] is None:\n",
    "        instance['Length'] = instance['Width'] * median_ratio      \n",
    "    elif instance['Width'] is None:\n",
    "        instance['Width'] = instance['Length'] / median_ratio\n",
    "    elif instance['Thickness'] is None:\n",
    "        instance['Thickness'] = thickness_median\n",
    "        \n",
    "    if instance['Roundness'] is None: \n",
    "        instance['Roundness'] = 4 * instance['Area'] / (np.pi * instance['Length'] ** 2)\n",
    "    if instance['Aspect Ratio'] is None: \n",
    "        instance['Aspect Ratio'] = instance['Length'] / instance['Width']\n",
    "    if instance['Eccentricity'] is None:\n",
    "        instance['Eccentricity'] = np.sqrt(1 - (instance['Width'] / instance['Length'])**2)\n"
   ]
  },
  {
   "cell_type": "markdown",
   "metadata": {},
   "source": [
    "### Setup of NN using PyTorch"
   ]
  },
  {
   "cell_type": "code",
   "execution_count": 16,
   "metadata": {},
   "outputs": [],
   "source": [
    "features = headers[:-1]\n",
    "target = headers[-1]\n",
    "\n",
    "X = [[instance[feature] for feature in features] for instance in data]\n",
    "y = [instance[target] for instance in data]\n",
    "\n",
    "X = torch.tensor(X, dtype=torch.float32)\n",
    "y = torch.tensor(y, dtype=torch.long)\n",
    "\n",
    "X_train, X_val_test, y_train, y_val_test = train_test_split(X, y, test_size=0.3, random_state=42)\n",
    "X_val, X_test, y_val, y_test = train_test_split(X_val_test, y_val_test, test_size=0.5, random_state=42)\n",
    "\n",
    "#optional\n",
    "scaler = StandardScaler()\n",
    "X_train = torch.tensor(scaler.fit_transform(X_train), dtype=torch.float32)\n",
    "X_val = torch.tensor(scaler.transform(X_val), dtype=torch.float32)\n",
    "X_test = torch.tensor(scaler.transform(X_test), dtype=torch.float32)\n",
    "\n",
    "class AlmondNN(nn.Module):\n",
    "    def __init__(self):\n",
    "        super(AlmondNN, self).__init__()\n",
    "        self.fc1 = nn.Linear(len(features), 128)\n",
    "        self.fc2 = nn.Linear(128, 64)\n",
    "        self.fc3 = nn.Linear(64, 32)\n",
    "        self.fc4 = nn.Linear(32, 16)\n",
    "        self.fc5 = nn.Linear(16, len(types))\n",
    "\n",
    "    def forward(self, x):\n",
    "        x = torch.relu(self.fc1(x))\n",
    "        x = torch.relu(self.fc2(x))\n",
    "        x = torch.relu(self.fc3(x))\n",
    "        x = torch.relu(self.fc4(x))\n",
    "        x = self.fc5(x)\n",
    "        return x \n",
    "    \n",
    "model = AlmondNN()\n",
    "criterion = nn.CrossEntropyLoss()\n",
    "optimizer = optim.Adam(model.parameters(), lr=0.001)\n",
    "\n",
    "epochs = 100\n",
    "\n",
    "for epoch in range(epochs):\n",
    "    model.train()\n",
    "\n",
    "    optimizer.zero_grad()\n",
    "\n",
    "    outputs = model(X_train)\n",
    "    loss = criterion(outputs, y_train)\n",
    "\n",
    "    loss.backward()\n",
    "    optimizer.step()\n",
    "\n",
    "    if (epoch+1) % 10 == 0:\n",
    "        print(f'Epoch [{epoch+1}/{epochs}], Loss: {loss.item():.4f}')\n",
    "\n",
    "model.eval()\n",
    "\n",
    "with torch.no_grad():\n",
    "    outputs = model(X_test)\n",
    "    _, predicted = torch.max(outputs, 1)\n",
    "\n",
    "    accuracy = (predicted == y_test).sum().item() / len(y_test)\n",
    "    print(f'Accuracy: {accuracy * 100:.2f}%')"
   ]
  }
 ],
 "metadata": {
  "kernelspec": {
   "display_name": "base",
   "language": "python",
   "name": "python3"
  },
  "language_info": {
   "codemirror_mode": {
    "name": "ipython",
    "version": 3
   },
   "file_extension": ".py",
   "mimetype": "text/x-python",
   "name": "python",
   "nbconvert_exporter": "python",
   "pygments_lexer": "ipython3",
   "version": "3.12.4"
  }
 },
 "nbformat": 4,
 "nbformat_minor": 2
}
